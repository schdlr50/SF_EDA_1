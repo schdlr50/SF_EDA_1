{
 "cells": [
  {
   "cell_type": "code",
   "execution_count": 10,
   "metadata": {},
   "outputs": [],
   "source": [
    "#country — страна-производитель вина.\n",
    "#description — подробное описание.\n",
    "#designation — название виноградника, где выращивают виноград для вина.\n",
    "#points — баллы, которыми WineEnthusiast оценил вино по шкале от 1 до 100.\n",
    "#price — стоимость бутылки вина.\n",
    "#province — провинция или штат.\n",
    "#region_1 — винодельческий район в провинции или штате (например Напа).\n",
    "#region_2 — конкретный регион. Иногда в пределах винодельческой зоны указываются более конкретные \n",
    "# регионы (например Резерфорд в долине Напа), но это значение может быть пустым.\n",
    "#taster_name — имя сомелье.\n",
    "#taster_twitter_handle — твиттер сомелье.\n",
    "#title — название вина, которое часто содержит год и другую подробную информацию.\n",
    "#variety — сорт винограда, из которого изготовлено вино (например Пино Нуар).\n",
    "#winery — винодельня, которая производила вино."
   ]
  },
  {
   "cell_type": "code",
   "execution_count": 11,
   "metadata": {},
   "outputs": [],
   "source": [
    "import pandas as pd\n",
    "import numpy as np\n",
    "data=pd.read_csv('data/wine.csv')"
   ]
  },
  {
   "cell_type": "code",
   "execution_count": 12,
   "metadata": {},
   "outputs": [
    {
     "name": "stdout",
     "output_type": "stream",
     "text": [
      "19\n"
     ]
    }
   ],
   "source": [
    "#Задание 4.1. Кол-во сомелье?\n",
    "count_taster=data['taster_name'].nunique()\n",
    "print(count_taster)"
   ]
  },
  {
   "cell_type": "code",
   "execution_count": 13,
   "metadata": {},
   "outputs": [
    {
     "name": "stdout",
     "output_type": "stream",
     "text": [
      "3300.0\n"
     ]
    }
   ],
   "source": [
    "# Задание 4.2 Максимальная цена за бутылку?\n",
    "max_price=data['price'].max()\n",
    "print(max_price)"
   ]
  },
  {
   "cell_type": "code",
   "execution_count": 16,
   "metadata": {},
   "outputs": [
    {
     "name": "stdout",
     "output_type": "stream",
     "text": [
      "9983\n"
     ]
    }
   ],
   "source": [
    "# Задание 5.3 Сколько дубликатов в DS?\n",
    "data_duplicates=len(data)-len(data.drop_duplicates())\n",
    "print(data_duplicates)\n",
    "# удаляем дубликаты\n",
    "data.drop_duplicates(inplace=True)"
   ]
  },
  {
   "cell_type": "code",
   "execution_count": 17,
   "metadata": {},
   "outputs": [
    {
     "data": {
      "text/plain": [
       "country                     59\n",
       "description                  0\n",
       "designation              34545\n",
       "points                       0\n",
       "price                     8395\n",
       "province                    59\n",
       "region_1                 19560\n",
       "region_2                 73219\n",
       "taster_name              24917\n",
       "taster_twitter_handle    29446\n",
       "title                        0\n",
       "variety                      1\n",
       "winery                       0\n",
       "dtype: int64"
      ]
     },
     "execution_count": 17,
     "metadata": {},
     "output_type": "execute_result"
    }
   ],
   "source": [
    "# Задание 5.4 В каких из представленных признаках были обнаружены пропуски?\n",
    "data.isnull().sum(axis=0)"
   ]
  }
 ],
 "metadata": {
  "kernelspec": {
   "display_name": "Python 3",
   "language": "python",
   "name": "python3"
  },
  "language_info": {
   "codemirror_mode": {
    "name": "ipython",
    "version": 3
   },
   "file_extension": ".py",
   "mimetype": "text/x-python",
   "name": "python",
   "nbconvert_exporter": "python",
   "pygments_lexer": "ipython3",
   "version": "3.9.10"
  },
  "vscode": {
   "interpreter": {
    "hash": "cf92aa13fedf815d5c8dd192b8d835913fde3e8bc926b2a0ad6cc74ef2ba3ca2"
   }
  }
 },
 "nbformat": 4,
 "nbformat_minor": 2
}
