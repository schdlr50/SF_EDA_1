{
 "cells": [
  {
   "cell_type": "code",
   "execution_count": 4,
   "metadata": {},
   "outputs": [],
   "source": [
    "#country — страна-производитель вина.\n",
    "#description — подробное описание.\n",
    "#designation — название виноградника, где выращивают виноград для вина.\n",
    "#points — баллы, которыми WineEnthusiast оценил вино по шкале от 1 до 100.\n",
    "#price — стоимость бутылки вина.\n",
    "#province — провинция или штат.\n",
    "#region_1 — винодельческий район в провинции или штате (например Напа).\n",
    "#region_2 — конкретный регион. Иногда в пределах винодельческой зоны указываются более конкретные \n",
    "# регионы (например Резерфорд в долине Напа), но это значение может быть пустым.\n",
    "#taster_name — имя сомелье.\n",
    "#taster_twitter_handle — твиттер сомелье.\n",
    "#title — название вина, которое часто содержит год и другую подробную информацию.\n",
    "#variety — сорт винограда, из которого изготовлено вино (например Пино Нуар).\n",
    "#winery — винодельня, которая производила вино."
   ]
  },
  {
   "cell_type": "code",
   "execution_count": 5,
   "metadata": {},
   "outputs": [],
   "source": [
    "import pandas as pd\n",
    "data=pd.read_csv('data/wine.csv')"
   ]
  },
  {
   "cell_type": "code",
   "execution_count": 6,
   "metadata": {},
   "outputs": [
    {
     "name": "stdout",
     "output_type": "stream",
     "text": [
      "19\n"
     ]
    }
   ],
   "source": [
    "#Задание 4.1. Кол-во сомелье?\n",
    "count_taster=data['taster_name'].nunique()\n",
    "print(count_taster)"
   ]
  },
  {
   "cell_type": "code",
   "execution_count": 7,
   "metadata": {},
   "outputs": [
    {
     "name": "stdout",
     "output_type": "stream",
     "text": [
      "3300.0\n"
     ]
    }
   ],
   "source": [
    "# Задание 4.2 Максимальная цена за бутылку?\n",
    "max_price=data['price'].max()\n",
    "print(max_price)"
   ]
  },
  {
   "cell_type": "code",
   "execution_count": 12,
   "metadata": {},
   "outputs": [
    {
     "name": "stdout",
     "output_type": "stream",
     "text": [
      "9983\n"
     ]
    }
   ],
   "source": [
    "# Задание 5.3 Сколько дубликатов в DS? удалите их\n",
    "duplicates=len(data)-len(data.drop_duplicates())\n",
    "print(duplicates)"
   ]
  },
  {
   "cell_type": "code",
   "execution_count": null,
   "metadata": {},
   "outputs": [],
   "source": [
    "# Задание 5.4 В каких из представленных признаках были обнаружены пропуски?"
   ]
  }
 ],
 "metadata": {
  "kernelspec": {
   "display_name": "Python 3",
   "language": "python",
   "name": "python3"
  },
  "language_info": {
   "codemirror_mode": {
    "name": "ipython",
    "version": 3
   },
   "file_extension": ".py",
   "mimetype": "text/x-python",
   "name": "python",
   "nbconvert_exporter": "python",
   "pygments_lexer": "ipython3",
   "version": "3.9.10"
  }
 },
 "nbformat": 4,
 "nbformat_minor": 2
}
