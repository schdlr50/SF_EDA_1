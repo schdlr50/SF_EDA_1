{
 "cells": [
  {
   "cell_type": "code",
   "execution_count": null,
   "metadata": {},
   "outputs": [],
   "source": [
    "#country — страна-производитель вина.\n",
    "#description — подробное описание.\n",
    "#designation — название виноградника, где выращивают виноград для вина.\n",
    "#points — баллы, которыми WineEnthusiast оценил вино по шкале от 1 до 100.\n",
    "#price — стоимость бутылки вина.\n",
    "#province — провинция или штат.\n",
    "#region_1 — винодельческий район в провинции или штате (например Напа).\n",
    "#region_2 — конкретный регион. Иногда в пределах винодельческой зоны указываются более конкретные \n",
    "# регионы (например Резерфорд в долине Напа), но это значение может быть пустым.\n",
    "#taster_name — имя сомелье.\n",
    "#taster_twitter_handle — твиттер сомелье.\n",
    "#title — название вина, которое часто содержит год и другую подробную информацию.\n",
    "#variety — сорт винограда, из которого изготовлено вино (например Пино Нуар).\n",
    "#winery — винодельня, которая производила вино."
   ]
  },
  {
   "cell_type": "code",
   "execution_count": 1,
   "metadata": {},
   "outputs": [
    {
     "name": "stdout",
     "output_type": "stream",
     "text": [
      "<class 'pandas.core.frame.DataFrame'>\n",
      "RangeIndex: 129971 entries, 0 to 129970\n",
      "Data columns (total 13 columns):\n",
      " #   Column                 Non-Null Count   Dtype  \n",
      "---  ------                 --------------   -----  \n",
      " 0   country                129908 non-null  object \n",
      " 1   description            129971 non-null  object \n",
      " 2   designation            92506 non-null   object \n",
      " 3   points                 129971 non-null  int64  \n",
      " 4   price                  120975 non-null  float64\n",
      " 5   province               129908 non-null  object \n",
      " 6   region_1               108724 non-null  object \n",
      " 7   region_2               50511 non-null   object \n",
      " 8   taster_name            103727 non-null  object \n",
      " 9   taster_twitter_handle  98758 non-null   object \n",
      " 10  title                  129971 non-null  object \n",
      " 11  variety                129970 non-null  object \n",
      " 12  winery                 129971 non-null  object \n",
      "dtypes: float64(1), int64(1), object(11)\n",
      "memory usage: 12.9+ MB\n"
     ]
    }
   ],
   "source": [
    "import pandas as pd\n",
    "data=pd.read_csv('data/wine.csv')"
   ]
  },
  {
   "cell_type": "code",
   "execution_count": 9,
   "metadata": {},
   "outputs": [
    {
     "name": "stdout",
     "output_type": "stream",
     "text": [
      "19\n"
     ]
    }
   ],
   "source": [
    "#Задание 4.1. Кол-во сомелье?\n",
    "count_taster=data['taster_name'].nunique()\n",
    "print(count_taster)"
   ]
  },
  {
   "cell_type": "code",
   "execution_count": 10,
   "metadata": {},
   "outputs": [
    {
     "name": "stdout",
     "output_type": "stream",
     "text": [
      "3300.0\n"
     ]
    }
   ],
   "source": [
    "# Задание 4.2 Максимальная цена за бутылку?\n",
    "max_price=data['price'].max()\n",
    "print(max_price)"
   ]
  }
 ],
 "metadata": {
  "kernelspec": {
   "display_name": "Python 3",
   "language": "python",
   "name": "python3"
  },
  "language_info": {
   "codemirror_mode": {
    "name": "ipython",
    "version": 3
   },
   "file_extension": ".py",
   "mimetype": "text/x-python",
   "name": "python",
   "nbconvert_exporter": "python",
   "pygments_lexer": "ipython3",
   "version": "3.9.10"
  }
 },
 "nbformat": 4,
 "nbformat_minor": 2
}
